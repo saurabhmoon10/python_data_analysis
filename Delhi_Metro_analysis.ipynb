{
 "cells": [
  {
   "cell_type": "markdown",
   "id": "ed261486",
   "metadata": {},
   "source": [
    "# Delhi metro network analysis"
   ]
  },
  {
   "cell_type": "code",
   "execution_count": 2,
   "id": "0eae2c82",
   "metadata": {},
   "outputs": [],
   "source": [
    "# importing the neccessary libraries\n",
    "import pandas as pd\n",
    "import seaborn as sb\n",
    "import matplotlib.pyplot as plt\n",
    "%matplotlib inline\n",
    "\n",
    "import warnings\n",
    "warnings.filterwarnings(\"ignore\")"
   ]
  },
  {
   "cell_type": "code",
   "execution_count": null,
   "id": "77ba407e",
   "metadata": {},
   "outputs": [],
   "source": []
  },
  {
   "cell_type": "code",
   "execution_count": 3,
   "id": "6d580b35",
   "metadata": {},
   "outputs": [],
   "source": [
    "# loading the data\n",
    "metro_data=pd.read_csv(r\"C:\\Users\\HP\\Downloads\\Delhi-Metro-Network.csv\")"
   ]
  },
  {
   "cell_type": "code",
   "execution_count": 4,
   "id": "cce5af78",
   "metadata": {},
   "outputs": [
    {
     "data": {
      "text/html": [
       "<div>\n",
       "<style scoped>\n",
       "    .dataframe tbody tr th:only-of-type {\n",
       "        vertical-align: middle;\n",
       "    }\n",
       "\n",
       "    .dataframe tbody tr th {\n",
       "        vertical-align: top;\n",
       "    }\n",
       "\n",
       "    .dataframe thead th {\n",
       "        text-align: right;\n",
       "    }\n",
       "</style>\n",
       "<table border=\"1\" class=\"dataframe\">\n",
       "  <thead>\n",
       "    <tr style=\"text-align: right;\">\n",
       "      <th></th>\n",
       "      <th>Station ID</th>\n",
       "      <th>Station Name</th>\n",
       "      <th>Distance from Start (km)</th>\n",
       "      <th>Line</th>\n",
       "      <th>Opening Date</th>\n",
       "      <th>Station Layout</th>\n",
       "      <th>Latitude</th>\n",
       "      <th>Longitude</th>\n",
       "    </tr>\n",
       "  </thead>\n",
       "  <tbody>\n",
       "    <tr>\n",
       "      <th>0</th>\n",
       "      <td>1</td>\n",
       "      <td>Jhil Mil</td>\n",
       "      <td>10.3</td>\n",
       "      <td>Red line</td>\n",
       "      <td>2008-04-06</td>\n",
       "      <td>Elevated</td>\n",
       "      <td>28.675790</td>\n",
       "      <td>77.312390</td>\n",
       "    </tr>\n",
       "    <tr>\n",
       "      <th>1</th>\n",
       "      <td>2</td>\n",
       "      <td>Welcome [Conn: Red]</td>\n",
       "      <td>46.8</td>\n",
       "      <td>Pink line</td>\n",
       "      <td>2018-10-31</td>\n",
       "      <td>Elevated</td>\n",
       "      <td>28.671800</td>\n",
       "      <td>77.277560</td>\n",
       "    </tr>\n",
       "    <tr>\n",
       "      <th>2</th>\n",
       "      <td>3</td>\n",
       "      <td>DLF Phase 3</td>\n",
       "      <td>10.0</td>\n",
       "      <td>Rapid Metro</td>\n",
       "      <td>2013-11-14</td>\n",
       "      <td>Elevated</td>\n",
       "      <td>28.493600</td>\n",
       "      <td>77.093500</td>\n",
       "    </tr>\n",
       "    <tr>\n",
       "      <th>3</th>\n",
       "      <td>4</td>\n",
       "      <td>Okhla NSIC</td>\n",
       "      <td>23.8</td>\n",
       "      <td>Magenta line</td>\n",
       "      <td>2017-12-25</td>\n",
       "      <td>Elevated</td>\n",
       "      <td>28.554483</td>\n",
       "      <td>77.264849</td>\n",
       "    </tr>\n",
       "    <tr>\n",
       "      <th>4</th>\n",
       "      <td>5</td>\n",
       "      <td>Dwarka Mor</td>\n",
       "      <td>10.2</td>\n",
       "      <td>Blue line</td>\n",
       "      <td>2005-12-30</td>\n",
       "      <td>Elevated</td>\n",
       "      <td>28.619320</td>\n",
       "      <td>77.033260</td>\n",
       "    </tr>\n",
       "  </tbody>\n",
       "</table>\n",
       "</div>"
      ],
      "text/plain": [
       "   Station ID         Station Name  Distance from Start (km)          Line  \\\n",
       "0           1             Jhil Mil                      10.3      Red line   \n",
       "1           2  Welcome [Conn: Red]                      46.8     Pink line   \n",
       "2           3          DLF Phase 3                      10.0   Rapid Metro   \n",
       "3           4           Okhla NSIC                      23.8  Magenta line   \n",
       "4           5           Dwarka Mor                      10.2     Blue line   \n",
       "\n",
       "  Opening Date Station Layout   Latitude  Longitude  \n",
       "0   2008-04-06       Elevated  28.675790  77.312390  \n",
       "1   2018-10-31       Elevated  28.671800  77.277560  \n",
       "2   2013-11-14       Elevated  28.493600  77.093500  \n",
       "3   2017-12-25       Elevated  28.554483  77.264849  \n",
       "4   2005-12-30       Elevated  28.619320  77.033260  "
      ]
     },
     "execution_count": 4,
     "metadata": {},
     "output_type": "execute_result"
    }
   ],
   "source": [
    "# checking the head( ) of data\n",
    "metro_data.head()"
   ]
  },
  {
   "cell_type": "code",
   "execution_count": 5,
   "id": "cdeaa590",
   "metadata": {},
   "outputs": [
    {
     "data": {
      "text/plain": [
       "(285, 8)"
      ]
     },
     "execution_count": 5,
     "metadata": {},
     "output_type": "execute_result"
    }
   ],
   "source": [
    "# checking the shape format\n",
    "metro_data.shape"
   ]
  },
  {
   "cell_type": "markdown",
   "id": "25378db6",
   "metadata": {},
   "source": [
    "* There are 285 rows and 8 columns in our data."
   ]
  },
  {
   "cell_type": "code",
   "execution_count": 6,
   "id": "224b0eb2",
   "metadata": {},
   "outputs": [
    {
     "name": "stdout",
     "output_type": "stream",
     "text": [
      "<class 'pandas.core.frame.DataFrame'>\n",
      "RangeIndex: 285 entries, 0 to 284\n",
      "Data columns (total 8 columns):\n",
      " #   Column                    Non-Null Count  Dtype  \n",
      "---  ------                    --------------  -----  \n",
      " 0   Station ID                285 non-null    int64  \n",
      " 1   Station Name              285 non-null    object \n",
      " 2   Distance from Start (km)  285 non-null    float64\n",
      " 3   Line                      285 non-null    object \n",
      " 4   Opening Date              285 non-null    object \n",
      " 5   Station Layout            285 non-null    object \n",
      " 6   Latitude                  285 non-null    float64\n",
      " 7   Longitude                 285 non-null    float64\n",
      "dtypes: float64(3), int64(1), object(4)\n",
      "memory usage: 17.9+ KB\n"
     ]
    }
   ],
   "source": [
    "# checking the info \n",
    "metro_data.info()"
   ]
  },
  {
   "cell_type": "markdown",
   "id": "fb8b4100",
   "metadata": {},
   "source": [
    "* There are 3 float data columns , 1 int data column and 4 object data column in it."
   ]
  },
  {
   "cell_type": "code",
   "execution_count": 7,
   "id": "30667af5",
   "metadata": {},
   "outputs": [],
   "source": [
    "# checking the data types\n",
    "data_types=metro_data.dtypes"
   ]
  },
  {
   "cell_type": "code",
   "execution_count": 8,
   "id": "4d30dac9",
   "metadata": {},
   "outputs": [
    {
     "data": {
      "text/plain": [
       "Station ID                    int64\n",
       "Station Name                 object\n",
       "Distance from Start (km)    float64\n",
       "Line                         object\n",
       "Opening Date                 object\n",
       "Station Layout               object\n",
       "Latitude                    float64\n",
       "Longitude                   float64\n",
       "dtype: object"
      ]
     },
     "execution_count": 8,
     "metadata": {},
     "output_type": "execute_result"
    }
   ],
   "source": [
    "data_types"
   ]
  },
  {
   "cell_type": "code",
   "execution_count": 9,
   "id": "361d5c66",
   "metadata": {},
   "outputs": [
    {
     "data": {
      "text/plain": [
       "Index(['Station ID', 'Station Name', 'Distance from Start (km)', 'Line',\n",
       "       'Opening Date', 'Station Layout', 'Latitude', 'Longitude'],\n",
       "      dtype='object')"
      ]
     },
     "execution_count": 9,
     "metadata": {},
     "output_type": "execute_result"
    }
   ],
   "source": [
    "# checking the columns\n",
    "metro_data.columns"
   ]
  },
  {
   "cell_type": "code",
   "execution_count": 10,
   "id": "2d673bc4",
   "metadata": {},
   "outputs": [],
   "source": [
    "# checking for null values or missing values\n",
    "missing_value=metro_data.isnull().sum()"
   ]
  },
  {
   "cell_type": "code",
   "execution_count": 11,
   "id": "de1893ee",
   "metadata": {},
   "outputs": [
    {
     "data": {
      "text/plain": [
       "Station ID                  0\n",
       "Station Name                0\n",
       "Distance from Start (km)    0\n",
       "Line                        0\n",
       "Opening Date                0\n",
       "Station Layout              0\n",
       "Latitude                    0\n",
       "Longitude                   0\n",
       "dtype: int64"
      ]
     },
     "execution_count": 11,
     "metadata": {},
     "output_type": "execute_result"
    }
   ],
   "source": [
    "missing_value"
   ]
  },
  {
   "cell_type": "markdown",
   "id": "32ce4d39",
   "metadata": {},
   "source": [
    "* There are no null values present in dataset."
   ]
  },
  {
   "cell_type": "code",
   "execution_count": 12,
   "id": "934bcde4",
   "metadata": {},
   "outputs": [
    {
     "name": "stdout",
     "output_type": "stream",
     "text": [
      "<class 'pandas.core.series.Series'>\n",
      "RangeIndex: 285 entries, 0 to 284\n",
      "Series name: Station Name\n",
      "Non-Null Count  Dtype \n",
      "--------------  ----- \n",
      "285 non-null    object\n",
      "dtypes: object(1)\n",
      "memory usage: 2.4+ KB\n"
     ]
    }
   ],
   "source": [
    "# Station Name column.\n",
    "metro_data[\"Station Name\"].info()"
   ]
  },
  {
   "cell_type": "code",
   "execution_count": 13,
   "id": "ab026eaa",
   "metadata": {},
   "outputs": [
    {
     "data": {
      "text/plain": [
       "array(['Jhil Mil', 'Welcome [Conn: Red]', 'DLF Phase 3', 'Okhla NSIC',\n",
       "       'Dwarka Mor', 'Dilli Haat INA [Conn: Yellow]', 'Noida Sector 143',\n",
       "       'Moolchand', 'Chawri Bazar', 'Maya Puri',\n",
       "       'Central Secretariat [Conn: Violet]', 'Noida Sector 146',\n",
       "       'Tikri Border', 'Jangpura', 'Major Mohit Sharma', 'Majlis Park',\n",
       "       'Bhikaji Cama Place', 'Mundka Industrial Area (MIA)',\n",
       "       'Belvedere Towers', 'Adarsh Nagar', 'Noida City Center',\n",
       "       'Arjan Garh', 'Dwarka Sector 9', 'Azadpur [Conn: Yellow]',\n",
       "       'Qutab Minar', 'R K Ashram Marg', 'Uttam Nagar West',\n",
       "       'Dwarka [Conn: Blue]', 'Delta 1 Greater Noida', 'Golf Course',\n",
       "       'Shiv Vihar', 'Kashmere Gate [Conn: Yellow]',\n",
       "       'Jawaharlal Nehru Stadium', 'Patel Chowk',\n",
       "       'Janak Puri West [Conn: Magenta]', 'Kalkaji Mandir [Conn: Violet]',\n",
       "       'Dwarka Sector 21(First station) [Conn: Orange]', 'Subhash Nagar',\n",
       "       'Tughlakabad', 'Old Faridabad', 'Rohini Sector 18-19',\n",
       "       'Keshav Puram', 'Kohat Enclave', 'Paschim Vihar (West)',\n",
       "       'Dwarka Sector 14', 'IIT Delhi', 'Rajouri Garden [Conn: Blue]',\n",
       "       'Karkarduma Court', 'Rajendra Place', 'Hauz Khas [Conn: Yellow]',\n",
       "       'Noida Sector 137', 'Okhla', 'Jhandewalan', 'Raj Bagh',\n",
       "       'Inderlok Conn:Red', 'Noida Sector 51 [Conn: Blue]',\n",
       "       'Pari Chowk Greater Noida', 'Noida Sector 148', 'Pitam Pura',\n",
       "       'Moti Nagar', 'Pandit Shree Ram Sharma', 'Nangloi Railway Station',\n",
       "       'Noida Sector 50', 'Shastri Nagar', 'Sarita Vihar', 'Mundka',\n",
       "       'Kashmere Gate [Conn: Violet,Yellow]', 'Mansarovar Park',\n",
       "       'Mayur Vihar Phase-1 [Conn: Pink]', 'Vishwavidyalaya',\n",
       "       'Tis Hazari', 'Noida Sector 59', 'IGI Airport', 'Dwarka Sector 8',\n",
       "       'Noida Sector 62', 'JAMIA MILLIA ISLAMIA', 'Janpath',\n",
       "       'Noida Sector 52 [Conn: Aqua]', 'Munirka',\n",
       "       'Sarai Kale Khan Hazrat Nizamuddin', 'Pratap Nagar',\n",
       "       'Satguru Ram Singh Marg', 'Botanical Garden [Conn: Blue]',\n",
       "       'Rajouri Garden [Conn: Pink]', 'Sikandarpur [Conn: Yellow]',\n",
       "       'GNIDA Office', 'N.H.P.C. Chowk', 'Saket', 'Noida Sector 61',\n",
       "       'Shakurpur', 'Vidhan Sabha', 'Sarojini Nagar',\n",
       "       'Supreme Court (Pragati Maidan)', 'Chhattarpur', 'Delhi Aerocity',\n",
       "       'Sector 55-66', 'Terminal 1 IGI Airport',\n",
       "       'Brigadier Hoshiar Singh', 'Haiderpur Badli Mor',\n",
       "       'Noida Sector 142', 'Uttam Nagar East', 'Delhi Cantt',\n",
       "       'Noida Sector 147', 'Maujpur', 'Karkar Duma [Conn: Pink]',\n",
       "       'Central Secretariat [Conn: Yellow]', 'Laxmi Nagar',\n",
       "       'Shivaji Stadium', 'Nirman Vihar', 'Nehru Place',\n",
       "       'Dwarka Sector 10', 'Kirti Nagar [Conn: Blue]', 'Arthala',\n",
       "       'Noida Sector 15', 'Nawada', 'Yamuna Bank',\n",
       "       'Anand Vihar [Conn: Pink]', 'Cyber City', 'Lal Quila',\n",
       "       'Mandi House [Conn: Violet]', 'Ashok Park Main', 'Dashrath Puri',\n",
       "       'Okhla Bird Sanctuary', 'Noida Sector 144', 'Preet Vihar',\n",
       "       'Nangli', 'Dwarka [Conn: Gray]', 'Sarai',\n",
       "       'Samaypur Badli(First Station)', 'Ashram',\n",
       "       'Jasola Vihar Shaheen Bagh', 'Botanical Garden [Conn: Magenta]',\n",
       "       'Kalkaji Mandir [Conn: Magenta]', 'Mewala Maharajpur',\n",
       "       'Netaji Subash Place [Conn: Red]', 'Krishna Nagar',\n",
       "       'Janak Puri West [Conn: Blue]', 'Huda City Centre',\n",
       "       'Sir Vishweshwaraiah Moti Bagh', 'Ramesh Nagar', 'Panchsheel Park',\n",
       "       'Welcome [Conn: Pink]', 'Model Town', 'Rithala(last station)',\n",
       "       'Tikri Kalan', 'Punjabi Bagh West', 'Sector 54 Chowk', 'AIIMS',\n",
       "       'Barakhamba', 'Sector 28 Faridabad', 'Sadar Bazaar Cantonment',\n",
       "       'Chandni Chowk', 'Mayur Vihar Pocket I',\n",
       "       'Dabri Mor - Janakpuri South', 'Nangloi', 'Rohini East',\n",
       "       'Najafgarh', 'Ghevra Metro station', 'Jasola',\n",
       "       'Shaheed Sthal(First Station)', 'Johri Enclave', 'Akshardham',\n",
       "       'Noida Sector 145', 'ESI BASAI DARAPUR', 'Indraprastha',\n",
       "       'Guru Tegh Bahadur Nagar', 'Guru Dronacharya', 'Sector 42-43',\n",
       "       'Nehru Enclave', 'Mohan Estate', 'Okhla Vihar', 'Shahdara',\n",
       "       'Dhaula Kuan [Conn: Pink]', 'Jaffrabad', 'Rohini West', 'Palam',\n",
       "       'Shyam park', 'Vaishali', 'Jahangirpuri', 'Badarpur Border', 'ITO',\n",
       "       'Badkal Mor', 'Naraina Vihar', 'Rajdhani Park',\n",
       "       'Sikandarpur [Conn: Rapid]', 'Maharaja Surajmal Stadium',\n",
       "       'Punjabi Bagh', 'Depot Greater Noida', 'Trilokpuri Sanjay Lake',\n",
       "       'Dwarka Sector 11', 'Anand Vihar [Conn: Blue]', 'IFFCO Chowk',\n",
       "       'Rajiv Chowk [Conn: Blue]', 'Greater Kailash', 'Moulsari Avenue',\n",
       "       'Kashmere Gate [Conn: Violet]', 'Ashok Park Main',\n",
       "       'South Extension', 'DLF Phase 2',\n",
       "       'Netaji Subash Place [Conn: Pink]',\n",
       "       'Mayur Vihar Phase-1 [Conn: Blue]', 'Lajpat Nagar [Conn: Violet]',\n",
       "       'Tilak Nagar', 'Civil Lines', 'Sukhdev Vihar', 'Vasant Vihar',\n",
       "       'Shastri Park', 'Udyog Bhawan', 'Rajiv Chowk [Conn: Yellow]',\n",
       "       'Mandawali - West Vinod Nagar', 'NSEZ Noida', 'RK Puram',\n",
       "       'Delhi Gate', 'New Delhi [Conn: Orange]', 'Bahdurgarh City',\n",
       "       'Sant Surdas - Sihi', 'Shalimar Bagh', 'Mohan Nagar',\n",
       "       'Noida Sector 16', 'Hauz Khas [Conn: Magenta]', 'Peera Garhi',\n",
       "       'Hindon River', 'Karkar Duma [Conn: Blue]', 'New Ashok Nagar',\n",
       "       'Jor Bagh', 'Mandi House [Conn: Blue]', 'Janak Puri East',\n",
       "       'Chirag Delhi', 'Azadpur [Conn: Pink]', 'Noida Sector 81',\n",
       "       'Shaheed Nagar', 'Kailash Colony', 'Shankar Vihar',\n",
       "       'Noida Sector 83', 'Noida Sector 34', 'Karol Bagh',\n",
       "       'Tagore Garden', 'Shivaji Park', 'Green Park', 'Patel Nagar',\n",
       "       'Dilshad Garden', 'Vinod Nagar East', 'Seelampur', 'Ghitorni',\n",
       "       'Shadipur', 'Paschim Vihar (East)', 'Pul Bangash', 'Khan Market',\n",
       "       'Dwarka Sector 13', 'New Delhi-Airport Express [Conn: Yellow]',\n",
       "       'Udyog Nagar', 'Noida Sector 101',\n",
       "       'Durgabai Deshmukh South Campus [Conn: Orange]',\n",
       "       'Alpha 1 Greater Noida', 'East Azad Nagar', 'MG Road',\n",
       "       'IP Extension', 'Malviya Nagar', 'Dilli Haat INA [Conn: Pink]',\n",
       "       'Govind Puri', 'Escorts Mujesar', 'Neelam Chowk Ajronda',\n",
       "       'Lajpat Nagar [Conn: Pink]', 'Sultanpur', 'Lok Kalyan Marg',\n",
       "       'Vinobapuri', 'Gokulpuri', 'Kanhaiya Nagar', 'Jama Masjid',\n",
       "       'Raja Nahar Singh', 'Noida Sector 76', 'Sector 53-54', 'Madipur',\n",
       "       'DLF Phase 1', 'Yamuna Bank', 'Kirti Nagar [Conn: Green]',\n",
       "       'Kalindi Kunj', 'Kaushambi', 'Dwarka Sector 21 [Conn: Blue]',\n",
       "       'Inderlok [Conn: Green]', 'Bata Chowk', 'Dwarka Sector 12',\n",
       "       'Noida Sector 18', 'Knowledge Park II', 'Mayur Vihar Extention'],\n",
       "      dtype=object)"
      ]
     },
     "execution_count": 13,
     "metadata": {},
     "output_type": "execute_result"
    }
   ],
   "source": [
    "metro_data[\"Station Name\"].values"
   ]
  },
  {
   "cell_type": "code",
   "execution_count": 14,
   "id": "633944d5",
   "metadata": {},
   "outputs": [
    {
     "data": {
      "text/plain": [
       "array(['Jhil Mil', 'Welcome [Conn: Red]', 'DLF Phase 3', 'Okhla NSIC',\n",
       "       'Dwarka Mor', 'Dilli Haat INA [Conn: Yellow]', 'Noida Sector 143',\n",
       "       'Moolchand', 'Chawri Bazar', 'Maya Puri',\n",
       "       'Central Secretariat [Conn: Violet]', 'Noida Sector 146',\n",
       "       'Tikri Border', 'Jangpura', 'Major Mohit Sharma', 'Majlis Park',\n",
       "       'Bhikaji Cama Place', 'Mundka Industrial Area (MIA)',\n",
       "       'Belvedere Towers', 'Adarsh Nagar', 'Noida City Center',\n",
       "       'Arjan Garh', 'Dwarka Sector 9', 'Azadpur [Conn: Yellow]',\n",
       "       'Qutab Minar', 'R K Ashram Marg', 'Uttam Nagar West',\n",
       "       'Dwarka [Conn: Blue]', 'Delta 1 Greater Noida', 'Golf Course',\n",
       "       'Shiv Vihar', 'Kashmere Gate [Conn: Yellow]',\n",
       "       'Jawaharlal Nehru Stadium', 'Patel Chowk',\n",
       "       'Janak Puri West [Conn: Magenta]', 'Kalkaji Mandir [Conn: Violet]',\n",
       "       'Dwarka Sector 21(First station) [Conn: Orange]', 'Subhash Nagar',\n",
       "       'Tughlakabad', 'Old Faridabad', 'Rohini Sector 18-19',\n",
       "       'Keshav Puram', 'Kohat Enclave', 'Paschim Vihar (West)',\n",
       "       'Dwarka Sector 14', 'IIT Delhi', 'Rajouri Garden [Conn: Blue]',\n",
       "       'Karkarduma Court', 'Rajendra Place', 'Hauz Khas [Conn: Yellow]',\n",
       "       'Noida Sector 137', 'Okhla', 'Jhandewalan', 'Raj Bagh',\n",
       "       'Inderlok Conn:Red', 'Noida Sector 51 [Conn: Blue]',\n",
       "       'Pari Chowk Greater Noida', 'Noida Sector 148', 'Pitam Pura',\n",
       "       'Moti Nagar', 'Pandit Shree Ram Sharma', 'Nangloi Railway Station',\n",
       "       'Noida Sector 50', 'Shastri Nagar', 'Sarita Vihar', 'Mundka',\n",
       "       'Kashmere Gate [Conn: Violet,Yellow]', 'Mansarovar Park',\n",
       "       'Mayur Vihar Phase-1 [Conn: Pink]', 'Vishwavidyalaya',\n",
       "       'Tis Hazari', 'Noida Sector 59', 'IGI Airport', 'Dwarka Sector 8',\n",
       "       'Noida Sector 62', 'JAMIA MILLIA ISLAMIA', 'Janpath',\n",
       "       'Noida Sector 52 [Conn: Aqua]', 'Munirka',\n",
       "       'Sarai Kale Khan Hazrat Nizamuddin', 'Pratap Nagar',\n",
       "       'Satguru Ram Singh Marg', 'Botanical Garden [Conn: Blue]',\n",
       "       'Rajouri Garden [Conn: Pink]', 'Sikandarpur [Conn: Yellow]',\n",
       "       'GNIDA Office', 'N.H.P.C. Chowk', 'Saket', 'Noida Sector 61',\n",
       "       'Shakurpur', 'Vidhan Sabha', 'Sarojini Nagar',\n",
       "       'Supreme Court (Pragati Maidan)', 'Chhattarpur', 'Delhi Aerocity',\n",
       "       'Sector 55-66', 'Terminal 1 IGI Airport',\n",
       "       'Brigadier Hoshiar Singh', 'Haiderpur Badli Mor',\n",
       "       'Noida Sector 142', 'Uttam Nagar East', 'Delhi Cantt',\n",
       "       'Noida Sector 147', 'Maujpur', 'Karkar Duma [Conn: Pink]',\n",
       "       'Central Secretariat [Conn: Yellow]', 'Laxmi Nagar',\n",
       "       'Shivaji Stadium', 'Nirman Vihar', 'Nehru Place',\n",
       "       'Dwarka Sector 10', 'Kirti Nagar [Conn: Blue]', 'Arthala',\n",
       "       'Noida Sector 15', 'Nawada', 'Yamuna Bank',\n",
       "       'Anand Vihar [Conn: Pink]', 'Cyber City', 'Lal Quila',\n",
       "       'Mandi House [Conn: Violet]', 'Ashok Park Main', 'Dashrath Puri',\n",
       "       'Okhla Bird Sanctuary', 'Noida Sector 144', 'Preet Vihar',\n",
       "       'Nangli', 'Dwarka [Conn: Gray]', 'Sarai',\n",
       "       'Samaypur Badli(First Station)', 'Ashram',\n",
       "       'Jasola Vihar Shaheen Bagh', 'Botanical Garden [Conn: Magenta]',\n",
       "       'Kalkaji Mandir [Conn: Magenta]', 'Mewala Maharajpur',\n",
       "       'Netaji Subash Place [Conn: Red]', 'Krishna Nagar',\n",
       "       'Janak Puri West [Conn: Blue]', 'Huda City Centre',\n",
       "       'Sir Vishweshwaraiah Moti Bagh', 'Ramesh Nagar', 'Panchsheel Park',\n",
       "       'Welcome [Conn: Pink]', 'Model Town', 'Rithala(last station)',\n",
       "       'Tikri Kalan', 'Punjabi Bagh West', 'Sector 54 Chowk', 'AIIMS',\n",
       "       'Barakhamba', 'Sector 28 Faridabad', 'Sadar Bazaar Cantonment',\n",
       "       'Chandni Chowk', 'Mayur Vihar Pocket I',\n",
       "       'Dabri Mor - Janakpuri South', 'Nangloi', 'Rohini East',\n",
       "       'Najafgarh', 'Ghevra Metro station', 'Jasola',\n",
       "       'Shaheed Sthal(First Station)', 'Johri Enclave', 'Akshardham',\n",
       "       'Noida Sector 145', 'ESI BASAI DARAPUR', 'Indraprastha',\n",
       "       'Guru Tegh Bahadur Nagar', 'Guru Dronacharya', 'Sector 42-43',\n",
       "       'Nehru Enclave', 'Mohan Estate', 'Okhla Vihar', 'Shahdara',\n",
       "       'Dhaula Kuan [Conn: Pink]', 'Jaffrabad', 'Rohini West', 'Palam',\n",
       "       'Shyam park', 'Vaishali', 'Jahangirpuri', 'Badarpur Border', 'ITO',\n",
       "       'Badkal Mor', 'Naraina Vihar', 'Rajdhani Park',\n",
       "       'Sikandarpur [Conn: Rapid]', 'Maharaja Surajmal Stadium',\n",
       "       'Punjabi Bagh', 'Depot Greater Noida', 'Trilokpuri Sanjay Lake',\n",
       "       'Dwarka Sector 11', 'Anand Vihar [Conn: Blue]', 'IFFCO Chowk',\n",
       "       'Rajiv Chowk [Conn: Blue]', 'Greater Kailash', 'Moulsari Avenue',\n",
       "       'Kashmere Gate [Conn: Violet]', 'South Extension', 'DLF Phase 2',\n",
       "       'Netaji Subash Place [Conn: Pink]',\n",
       "       'Mayur Vihar Phase-1 [Conn: Blue]', 'Lajpat Nagar [Conn: Violet]',\n",
       "       'Tilak Nagar', 'Civil Lines', 'Sukhdev Vihar', 'Vasant Vihar',\n",
       "       'Shastri Park', 'Udyog Bhawan', 'Rajiv Chowk [Conn: Yellow]',\n",
       "       'Mandawali - West Vinod Nagar', 'NSEZ Noida', 'RK Puram',\n",
       "       'Delhi Gate', 'New Delhi [Conn: Orange]', 'Bahdurgarh City',\n",
       "       'Sant Surdas - Sihi', 'Shalimar Bagh', 'Mohan Nagar',\n",
       "       'Noida Sector 16', 'Hauz Khas [Conn: Magenta]', 'Peera Garhi',\n",
       "       'Hindon River', 'Karkar Duma [Conn: Blue]', 'New Ashok Nagar',\n",
       "       'Jor Bagh', 'Mandi House [Conn: Blue]', 'Janak Puri East',\n",
       "       'Chirag Delhi', 'Azadpur [Conn: Pink]', 'Noida Sector 81',\n",
       "       'Shaheed Nagar', 'Kailash Colony', 'Shankar Vihar',\n",
       "       'Noida Sector 83', 'Noida Sector 34', 'Karol Bagh',\n",
       "       'Tagore Garden', 'Shivaji Park', 'Green Park', 'Patel Nagar',\n",
       "       'Dilshad Garden', 'Vinod Nagar East', 'Seelampur', 'Ghitorni',\n",
       "       'Shadipur', 'Paschim Vihar (East)', 'Pul Bangash', 'Khan Market',\n",
       "       'Dwarka Sector 13', 'New Delhi-Airport Express [Conn: Yellow]',\n",
       "       'Udyog Nagar', 'Noida Sector 101',\n",
       "       'Durgabai Deshmukh South Campus [Conn: Orange]',\n",
       "       'Alpha 1 Greater Noida', 'East Azad Nagar', 'MG Road',\n",
       "       'IP Extension', 'Malviya Nagar', 'Dilli Haat INA [Conn: Pink]',\n",
       "       'Govind Puri', 'Escorts Mujesar', 'Neelam Chowk Ajronda',\n",
       "       'Lajpat Nagar [Conn: Pink]', 'Sultanpur', 'Lok Kalyan Marg',\n",
       "       'Vinobapuri', 'Gokulpuri', 'Kanhaiya Nagar', 'Jama Masjid',\n",
       "       'Raja Nahar Singh', 'Noida Sector 76', 'Sector 53-54', 'Madipur',\n",
       "       'DLF Phase 1', 'Kirti Nagar [Conn: Green]', 'Kalindi Kunj',\n",
       "       'Kaushambi', 'Dwarka Sector 21 [Conn: Blue]',\n",
       "       'Inderlok [Conn: Green]', 'Bata Chowk', 'Dwarka Sector 12',\n",
       "       'Noida Sector 18', 'Knowledge Park II', 'Mayur Vihar Extention'],\n",
       "      dtype=object)"
      ]
     },
     "execution_count": 14,
     "metadata": {},
     "output_type": "execute_result"
    }
   ],
   "source": [
    "# checking for unique values\n",
    "metro_data[\"Station Name\"].unique()"
   ]
  },
  {
   "cell_type": "code",
   "execution_count": 15,
   "id": "a0e24ce1",
   "metadata": {},
   "outputs": [
    {
     "data": {
      "text/plain": [
       "283"
      ]
     },
     "execution_count": 15,
     "metadata": {},
     "output_type": "execute_result"
    }
   ],
   "source": [
    "# counting the number of unique values.\n",
    "metro_data[\"Station Name\"].nunique()"
   ]
  },
  {
   "cell_type": "markdown",
   "id": "52be704c",
   "metadata": {},
   "source": [
    "* There are 283 unique Station in our data."
   ]
  },
  {
   "cell_type": "code",
   "execution_count": null,
   "id": "d14a5308",
   "metadata": {},
   "outputs": [],
   "source": []
  },
  {
   "cell_type": "code",
   "execution_count": 16,
   "id": "7a338a78",
   "metadata": {},
   "outputs": [
    {
     "data": {
      "text/html": [
       "<div>\n",
       "<style scoped>\n",
       "    .dataframe tbody tr th:only-of-type {\n",
       "        vertical-align: middle;\n",
       "    }\n",
       "\n",
       "    .dataframe tbody tr th {\n",
       "        vertical-align: top;\n",
       "    }\n",
       "\n",
       "    .dataframe thead th {\n",
       "        text-align: right;\n",
       "    }\n",
       "</style>\n",
       "<table border=\"1\" class=\"dataframe\">\n",
       "  <thead>\n",
       "    <tr style=\"text-align: right;\">\n",
       "      <th></th>\n",
       "      <th>Station ID</th>\n",
       "      <th>Station Name</th>\n",
       "      <th>Distance from Start (km)</th>\n",
       "      <th>Line</th>\n",
       "      <th>Opening Date</th>\n",
       "      <th>Station Layout</th>\n",
       "      <th>Latitude</th>\n",
       "      <th>Longitude</th>\n",
       "    </tr>\n",
       "  </thead>\n",
       "  <tbody>\n",
       "    <tr>\n",
       "      <th>0</th>\n",
       "      <td>1</td>\n",
       "      <td>Jhil Mil</td>\n",
       "      <td>10.3</td>\n",
       "      <td>Red line</td>\n",
       "      <td>2008-04-06</td>\n",
       "      <td>Elevated</td>\n",
       "      <td>28.67579</td>\n",
       "      <td>77.31239</td>\n",
       "    </tr>\n",
       "  </tbody>\n",
       "</table>\n",
       "</div>"
      ],
      "text/plain": [
       "   Station ID Station Name  Distance from Start (km)      Line Opening Date  \\\n",
       "0           1     Jhil Mil                      10.3  Red line   2008-04-06   \n",
       "\n",
       "  Station Layout  Latitude  Longitude  \n",
       "0       Elevated  28.67579   77.31239  "
      ]
     },
     "execution_count": 16,
     "metadata": {},
     "output_type": "execute_result"
    }
   ],
   "source": [
    "metro_data.head(1)"
   ]
  },
  {
   "cell_type": "code",
   "execution_count": null,
   "id": "2c469b5b",
   "metadata": {},
   "outputs": [],
   "source": []
  },
  {
   "cell_type": "code",
   "execution_count": 17,
   "id": "026da204",
   "metadata": {},
   "outputs": [
    {
     "name": "stdout",
     "output_type": "stream",
     "text": [
      "<class 'pandas.core.series.Series'>\n",
      "RangeIndex: 285 entries, 0 to 284\n",
      "Series name: Distance from Start (km)\n",
      "Non-Null Count  Dtype  \n",
      "--------------  -----  \n",
      "285 non-null    float64\n",
      "dtypes: float64(1)\n",
      "memory usage: 2.4 KB\n"
     ]
    }
   ],
   "source": [
    "# Distance From Start (km) column\n",
    "# checking info\n",
    "metro_data[\"Distance from Start (km)\"].info()"
   ]
  },
  {
   "cell_type": "code",
   "execution_count": 18,
   "id": "853f44a0",
   "metadata": {},
   "outputs": [
    {
     "data": {
      "text/plain": [
       "dtype('float64')"
      ]
     },
     "execution_count": 18,
     "metadata": {},
     "output_type": "execute_result"
    }
   ],
   "source": [
    "# checking the data type\n",
    "metro_data[\"Distance from Start (km)\"].dtype"
   ]
  },
  {
   "cell_type": "code",
   "execution_count": 19,
   "id": "052cadc9",
   "metadata": {},
   "outputs": [
    {
     "data": {
      "text/plain": [
       "array([10.3, 46.8, 10. , 23.8, 10.2, 24.9, 11.5, 15.1, 15.3, 12.8, 19.4,\n",
       "       15.8, 20.2, 12.9,  5.7,  0. , 22.6, 15. ,  8. ,  4.7, 47.2, 38.6,\n",
       "        2.7,  2.1, 31.7, 28.9, 12.4, 45.9, 52.6, 12. , 18.5, 14.7, 23. ,\n",
       "       17.6, 25.2, 35.4,  0.8, 26.2, 28.6,  6.7,  7.6, 16.3, 11.3, 44. ,\n",
       "       25.7, 17.5,  8.9, 20. , 27.9,  6.9, 22.5, 18.9, 29.6, 21.8, 21.5,\n",
       "       11.2,  1.3, 23.1, 22.1, 13.7, 11.4, 38.3,  9.8, 19.7, 51.5, 17.9,\n",
       "        1.7, 52.7, 26.1,  7.2, 49.3, 14. , 32.2, 21.4,  1.1, 33.1, 19.6,\n",
       "        6.6, 30.4, 30. , 50.5,  6.3, 10.8, 32.6, 33. , 14.5, 24.8, 10.5,\n",
       "       13.4, 16.1, 17.3, 49.1,  4.6,  8.5,  1.9,  2.4, 17.4,  3.8,  2.5,\n",
       "       41.4,  8.6,  1.5, 31.8,  1.4,  3.1, 31.4,  3.4,  9.1, 28.8, 30.3,\n",
       "       28.4, 44.7, 18.2, 31.3,  5.1, 45.7, 21. , 20.6, 19. , 32.7,  7.7,\n",
       "       24.6, 30.8, 32.5, 14.3, 36.6,  2. ,  3.9, 17.1, 20.9, 51.7, 36.5,\n",
       "       14.1, 33.4,  9. , 40.9, 23.3, 26.6, 12.5,  8.3, 48. ,  4.5,  8.1,\n",
       "       26.3,  5. , 34.2, 41.9,  9.5,  2.3, 27.1, 37.9,  4.8, 44.2, 17.2,\n",
       "       20.8,  9.2, 13.2,  7.3, 27.4, 35.8, 27.7, 16.7, 12.1, 16.4, 30.1,\n",
       "       39.3, 15.4,  3.7, 41.8,  3.2, 42.5,  1. , 42.9, 40.4,  5.8, 15.7,\n",
       "       19.9,  6.2,  4.3,  8.2, 10.7,  7.4, 48.1, 26.7, 25.6,  9.4, 38.7,\n",
       "       14.8, 35.9, 23.5, 10.6,  8.8, 23.4, 43.1, 40.3, 29.1, 40.1, 37. ,\n",
       "       14.4, 34.6, 21.3, 50.4, 25.5, 43.5,  2.6,  5.5, 35.2, 22.8, 29.8,\n",
       "        6.5, 24.3, 43.6, 39.5])"
      ]
     },
     "execution_count": 19,
     "metadata": {},
     "output_type": "execute_result"
    }
   ],
   "source": [
    "# checking the unique values\n",
    "metro_data[\"Distance from Start (km)\"].unique()"
   ]
  },
  {
   "cell_type": "code",
   "execution_count": 20,
   "id": "aa7065b8",
   "metadata": {},
   "outputs": [
    {
     "data": {
      "text/plain": [
       "213"
      ]
     },
     "execution_count": 20,
     "metadata": {},
     "output_type": "execute_result"
    }
   ],
   "source": [
    "# counting the unique values\n",
    "metro_data['Distance from Start (km)'].nunique()"
   ]
  },
  {
   "cell_type": "markdown",
   "id": "a03797a5",
   "metadata": {},
   "source": [
    "* There are 213 unique range of km present in our dataset."
   ]
  },
  {
   "cell_type": "code",
   "execution_count": 21,
   "id": "fa36300b",
   "metadata": {},
   "outputs": [
    {
     "data": {
      "text/plain": [
       "count    285.000000\n",
       "mean      19.218947\n",
       "std       14.002862\n",
       "min        0.000000\n",
       "25%        7.300000\n",
       "50%       17.400000\n",
       "75%       28.800000\n",
       "max       52.700000\n",
       "Name: Distance from Start (km), dtype: float64"
      ]
     },
     "execution_count": 21,
     "metadata": {},
     "output_type": "execute_result"
    }
   ],
   "source": [
    "metro_data['Distance from Start (km)'].describe()"
   ]
  },
  {
   "cell_type": "code",
   "execution_count": 22,
   "id": "6c6b6fdd",
   "metadata": {},
   "outputs": [
    {
     "data": {
      "text/plain": [
       "<Axes: >"
      ]
     },
     "execution_count": 22,
     "metadata": {},
     "output_type": "execute_result"
    },
    {
     "data": {
      "image/png": "[encoded data removed]",
      "text/plain": [
       "<Figure size 640x480 with 1 Axes>"
      ]
     },
     "metadata": {},
     "output_type": "display_data"
    }
   ],
   "source": [
    "# checking for outlier\n",
    "sb.boxplot(metro_data[\"Distance from Start (km)\"])"
   ]
  },
  {
   "cell_type": "code",
   "execution_count": 23,
   "id": "629e9cb0",
   "metadata": {},
   "outputs": [
    {
     "data": {
      "text/plain": [
       "<Axes: xlabel='Distance from Start (km)', ylabel='Count'>"
      ]
     },
     "execution_count": 23,
     "metadata": {},
     "output_type": "execute_result"
    },
    {
     "data": {
      "image/png": "[encoded data removed]",
      "text/plain": [
       "<Figure size 640x480 with 1 Axes>"
      ]
     },
     "metadata": {},
     "output_type": "display_data"
    }
   ],
   "source": [
    "sb.histplot(metro_data[\"Distance from Start (km)\"],kde=True)"
   ]
  },
  {
   "cell_type": "code",
   "execution_count": null,
   "id": "f5235640",
   "metadata": {},
   "outputs": [],
   "source": []
  },
  {
   "cell_type": "code",
   "execution_count": 24,
   "id": "e07c6d7b",
   "metadata": {},
   "outputs": [
    {
     "data": {
      "text/html": [
       "<div>\n",
       "<style scoped>\n",
       "    .dataframe tbody tr th:only-of-type {\n",
       "        vertical-align: middle;\n",
       "    }\n",
       "\n",
       "    .dataframe tbody tr th {\n",
       "        vertical-align: top;\n",
       "    }\n",
       "\n",
       "    .dataframe thead th {\n",
       "        text-align: right;\n",
       "    }\n",
       "</style>\n",
       "<table border=\"1\" class=\"dataframe\">\n",
       "  <thead>\n",
       "    <tr style=\"text-align: right;\">\n",
       "      <th></th>\n",
       "      <th>Station ID</th>\n",
       "      <th>Station Name</th>\n",
       "      <th>Distance from Start (km)</th>\n",
       "      <th>Line</th>\n",
       "      <th>Opening Date</th>\n",
       "      <th>Station Layout</th>\n",
       "      <th>Latitude</th>\n",
       "      <th>Longitude</th>\n",
       "    </tr>\n",
       "  </thead>\n",
       "  <tbody>\n",
       "    <tr>\n",
       "      <th>0</th>\n",
       "      <td>1</td>\n",
       "      <td>Jhil Mil</td>\n",
       "      <td>10.3</td>\n",
       "      <td>Red line</td>\n",
       "      <td>2008-04-06</td>\n",
       "      <td>Elevated</td>\n",
       "      <td>28.67579</td>\n",
       "      <td>77.31239</td>\n",
       "    </tr>\n",
       "    <tr>\n",
       "      <th>1</th>\n",
       "      <td>2</td>\n",
       "      <td>Welcome [Conn: Red]</td>\n",
       "      <td>46.8</td>\n",
       "      <td>Pink line</td>\n",
       "      <td>2018-10-31</td>\n",
       "      <td>Elevated</td>\n",
       "      <td>28.67180</td>\n",
       "      <td>77.27756</td>\n",
       "    </tr>\n",
       "  </tbody>\n",
       "</table>\n",
       "</div>"
      ],
      "text/plain": [
       "   Station ID         Station Name  Distance from Start (km)       Line  \\\n",
       "0           1             Jhil Mil                      10.3   Red line   \n",
       "1           2  Welcome [Conn: Red]                      46.8  Pink line   \n",
       "\n",
       "  Opening Date Station Layout  Latitude  Longitude  \n",
       "0   2008-04-06       Elevated  28.67579   77.31239  \n",
       "1   2018-10-31       Elevated  28.67180   77.27756  "
      ]
     },
     "execution_count": 24,
     "metadata": {},
     "output_type": "execute_result"
    }
   ],
   "source": [
    "metro_data.head(2)"
   ]
  },
  {
   "cell_type": "code",
   "execution_count": 25,
   "id": "60bff8c0",
   "metadata": {},
   "outputs": [],
   "source": [
    "# Opening Date column\n",
    "# convert it into standard date time format.\n",
    "metro_data[\"Opening Date\"]=pd.to_datetime(metro_data[\"Opening Date\"])"
   ]
  },
  {
   "cell_type": "code",
   "execution_count": 26,
   "id": "9b9e34c8",
   "metadata": {},
   "outputs": [
    {
     "data": {
      "text/html": [
       "<div>\n",
       "<style scoped>\n",
       "    .dataframe tbody tr th:only-of-type {\n",
       "        vertical-align: middle;\n",
       "    }\n",
       "\n",
       "    .dataframe tbody tr th {\n",
       "        vertical-align: top;\n",
       "    }\n",
       "\n",
       "    .dataframe thead th {\n",
       "        text-align: right;\n",
       "    }\n",
       "</style>\n",
       "<table border=\"1\" class=\"dataframe\">\n",
       "  <thead>\n",
       "    <tr style=\"text-align: right;\">\n",
       "      <th></th>\n",
       "      <th>Station ID</th>\n",
       "      <th>Station Name</th>\n",
       "      <th>Distance from Start (km)</th>\n",
       "      <th>Line</th>\n",
       "      <th>Opening Date</th>\n",
       "      <th>Station Layout</th>\n",
       "      <th>Latitude</th>\n",
       "      <th>Longitude</th>\n",
       "    </tr>\n",
       "  </thead>\n",
       "  <tbody>\n",
       "    <tr>\n",
       "      <th>0</th>\n",
       "      <td>1</td>\n",
       "      <td>Jhil Mil</td>\n",
       "      <td>10.3</td>\n",
       "      <td>Red line</td>\n",
       "      <td>2008-04-06</td>\n",
       "      <td>Elevated</td>\n",
       "      <td>28.67579</td>\n",
       "      <td>77.31239</td>\n",
       "    </tr>\n",
       "    <tr>\n",
       "      <th>1</th>\n",
       "      <td>2</td>\n",
       "      <td>Welcome [Conn: Red]</td>\n",
       "      <td>46.8</td>\n",
       "      <td>Pink line</td>\n",
       "      <td>2018-10-31</td>\n",
       "      <td>Elevated</td>\n",
       "      <td>28.67180</td>\n",
       "      <td>77.27756</td>\n",
       "    </tr>\n",
       "  </tbody>\n",
       "</table>\n",
       "</div>"
      ],
      "text/plain": [
       "   Station ID         Station Name  Distance from Start (km)       Line  \\\n",
       "0           1             Jhil Mil                      10.3   Red line   \n",
       "1           2  Welcome [Conn: Red]                      46.8  Pink line   \n",
       "\n",
       "  Opening Date Station Layout  Latitude  Longitude  \n",
       "0   2008-04-06       Elevated  28.67579   77.31239  \n",
       "1   2018-10-31       Elevated  28.67180   77.27756  "
      ]
     },
     "execution_count": 26,
     "metadata": {},
     "output_type": "execute_result"
    }
   ],
   "source": [
    "#checking the data\n",
    "metro_data.head(2)"
   ]
  },
  {
   "cell_type": "code",
   "execution_count": null,
   "id": "5cd2c0c3",
   "metadata": {},
   "outputs": [],
   "source": []
  },
  {
   "cell_type": "code",
   "execution_count": 27,
   "id": "8c9aa1a6",
   "metadata": {},
   "outputs": [
    {
     "name": "stdout",
     "output_type": "stream",
     "text": [
      "<class 'pandas.core.series.Series'>\n",
      "RangeIndex: 285 entries, 0 to 284\n",
      "Series name: Station Layout\n",
      "Non-Null Count  Dtype \n",
      "--------------  ----- \n",
      "285 non-null    object\n",
      "dtypes: object(1)\n",
      "memory usage: 2.4+ KB\n"
     ]
    }
   ],
   "source": [
    "# Station layout column\n",
    "metro_data[\"Station Layout\"].info()"
   ]
  },
  {
   "cell_type": "code",
   "execution_count": 28,
   "id": "74fe855f",
   "metadata": {},
   "outputs": [
    {
     "data": {
      "text/plain": [
       "dtype('O')"
      ]
     },
     "execution_count": 28,
     "metadata": {},
     "output_type": "execute_result"
    }
   ],
   "source": [
    "# checking the data type\n",
    "metro_data[\"Station Layout\"].dtype"
   ]
  },
  {
   "cell_type": "code",
   "execution_count": 29,
   "id": "1df8f840",
   "metadata": {},
   "outputs": [
    {
     "data": {
      "text/plain": [
       "array(['Elevated', 'Underground', 'At-Grade'], dtype=object)"
      ]
     },
     "execution_count": 29,
     "metadata": {},
     "output_type": "execute_result"
    }
   ],
   "source": [
    "# checking for unique values\n",
    "metro_data[\"Station Layout\"].unique()"
   ]
  },
  {
   "cell_type": "markdown",
   "id": "3c5b441e",
   "metadata": {},
   "source": [
    "* There are only 3 unique station layouts \n",
    "    \n",
    "    (1) Elevated\n",
    "    \n",
    "    (2) Underground\n",
    "    \n",
    "    (3) At-Grade"
   ]
  },
  {
   "cell_type": "code",
   "execution_count": 30,
   "id": "7f1310ec",
   "metadata": {},
   "outputs": [
    {
     "data": {
      "text/plain": [
       "Station Layout\n",
       "Elevated       214\n",
       "Underground     68\n",
       "At-Grade         3\n",
       "Name: count, dtype: int64"
      ]
     },
     "execution_count": 30,
     "metadata": {},
     "output_type": "execute_result"
    }
   ],
   "source": [
    "# checking its value counts\n",
    "metro_data[\"Station Layout\"].value_counts()"
   ]
  },
  {
   "cell_type": "code",
   "execution_count": 31,
   "id": "911b59a9",
   "metadata": {},
   "outputs": [
    {
     "data": {
      "text/plain": [
       "Text(0, 0.5, 'Number of Stations')"
      ]
     },
     "execution_count": 31,
     "metadata": {},
     "output_type": "execute_result"
    },
    {
     "data": {
      "image/png": "[encoded data removed]",
      "text/plain": [
       "<Figure size 640x480 with 1 Axes>"
      ]
     },
     "metadata": {},
     "output_type": "display_data"
    }
   ],
   "source": [
    "# plotting the graph\n",
    "\n",
    "sb.countplot(x=\"Station Layout\",data=metro_data)\n",
    "plt.title(\"Distribution of Delhi Metro Station Layouts\")\n",
    "plt.ylabel(\"Number of Stations\")"
   ]
  },
  {
   "cell_type": "code",
   "execution_count": 32,
   "id": "e14439f5",
   "metadata": {},
   "outputs": [],
   "source": [
    "# checking for how many stations are opened each year.\n",
    "\n",
    "# adding the new column year \n",
    "metro_data[\"year\"]=pd.to_datetime(metro_data[\"Opening Date\"]).dt.year"
   ]
  },
  {
   "cell_type": "code",
   "execution_count": 33,
   "id": "d2951afa",
   "metadata": {},
   "outputs": [
    {
     "data": {
      "text/html": [
       "<div>\n",
       "<style scoped>\n",
       "    .dataframe tbody tr th:only-of-type {\n",
       "        vertical-align: middle;\n",
       "    }\n",
       "\n",
       "    .dataframe tbody tr th {\n",
       "        vertical-align: top;\n",
       "    }\n",
       "\n",
       "    .dataframe thead th {\n",
       "        text-align: right;\n",
       "    }\n",
       "</style>\n",
       "<table border=\"1\" class=\"dataframe\">\n",
       "  <thead>\n",
       "    <tr style=\"text-align: right;\">\n",
       "      <th></th>\n",
       "      <th>Station ID</th>\n",
       "      <th>Station Name</th>\n",
       "      <th>Distance from Start (km)</th>\n",
       "      <th>Line</th>\n",
       "      <th>Opening Date</th>\n",
       "      <th>Station Layout</th>\n",
       "      <th>Latitude</th>\n",
       "      <th>Longitude</th>\n",
       "      <th>year</th>\n",
       "    </tr>\n",
       "  </thead>\n",
       "  <tbody>\n",
       "    <tr>\n",
       "      <th>0</th>\n",
       "      <td>1</td>\n",
       "      <td>Jhil Mil</td>\n",
       "      <td>10.3</td>\n",
       "      <td>Red line</td>\n",
       "      <td>2008-04-06</td>\n",
       "      <td>Elevated</td>\n",
       "      <td>28.67579</td>\n",
       "      <td>77.31239</td>\n",
       "      <td>2008</td>\n",
       "    </tr>\n",
       "    <tr>\n",
       "      <th>1</th>\n",
       "      <td>2</td>\n",
       "      <td>Welcome [Conn: Red]</td>\n",
       "      <td>46.8</td>\n",
       "      <td>Pink line</td>\n",
       "      <td>2018-10-31</td>\n",
       "      <td>Elevated</td>\n",
       "      <td>28.67180</td>\n",
       "      <td>77.27756</td>\n",
       "      <td>2018</td>\n",
       "    </tr>\n",
       "    <tr>\n",
       "      <th>2</th>\n",
       "      <td>3</td>\n",
       "      <td>DLF Phase 3</td>\n",
       "      <td>10.0</td>\n",
       "      <td>Rapid Metro</td>\n",
       "      <td>2013-11-14</td>\n",
       "      <td>Elevated</td>\n",
       "      <td>28.49360</td>\n",
       "      <td>77.09350</td>\n",
       "      <td>2013</td>\n",
       "    </tr>\n",
       "  </tbody>\n",
       "</table>\n",
       "</div>"
      ],
      "text/plain": [
       "   Station ID         Station Name  Distance from Start (km)         Line  \\\n",
       "0           1             Jhil Mil                      10.3     Red line   \n",
       "1           2  Welcome [Conn: Red]                      46.8    Pink line   \n",
       "2           3          DLF Phase 3                      10.0  Rapid Metro   \n",
       "\n",
       "  Opening Date Station Layout  Latitude  Longitude  year  \n",
       "0   2008-04-06       Elevated  28.67579   77.31239  2008  \n",
       "1   2018-10-31       Elevated  28.67180   77.27756  2018  \n",
       "2   2013-11-14       Elevated  28.49360   77.09350  2013  "
      ]
     },
     "execution_count": 33,
     "metadata": {},
     "output_type": "execute_result"
    }
   ],
   "source": [
    "# checking for the data\n",
    "metro_data.head(3)"
   ]
  },
  {
   "cell_type": "code",
   "execution_count": 34,
   "id": "a4dd4676",
   "metadata": {},
   "outputs": [],
   "source": [
    "# countinig the number of stations opened each year\n",
    "station_per_year=metro_data[\"year\"].value_counts()"
   ]
  },
  {
   "cell_type": "code",
   "execution_count": 35,
   "id": "1a70fa29",
   "metadata": {},
   "outputs": [
    {
     "data": {
      "text/plain": [
       "year\n",
       "2018    64\n",
       "2010    54\n",
       "2019    37\n",
       "2005    28\n",
       "2017    18\n",
       "2009    17\n",
       "2011    13\n",
       "2015    13\n",
       "2004    11\n",
       "2006     9\n",
       "2002     6\n",
       "2013     5\n",
       "2003     4\n",
       "2008     3\n",
       "2014     3\n",
       "Name: count, dtype: int64"
      ]
     },
     "execution_count": 35,
     "metadata": {},
     "output_type": "execute_result"
    }
   ],
   "source": [
    "station_per_year"
   ]
  },
  {
   "cell_type": "markdown",
   "id": "53e5819f",
   "metadata": {},
   "source": [
    "* There are 64 station opened in year 2018.\n"
   ]
  },
  {
   "cell_type": "code",
   "execution_count": 36,
   "id": "c160f102",
   "metadata": {},
   "outputs": [
    {
     "data": {
      "text/plain": [
       "Text(0, 0.5, 'Number of Stations Opened')"
      ]
     },
     "execution_count": 36,
     "metadata": {},
     "output_type": "execute_result"
    },
    {
     "data": {
      "image/png": "[encoded data removed]",
      "text/plain": [
       "<Figure size 1000x1000 with 1 Axes>"
      ]
     },
     "metadata": {},
     "output_type": "display_data"
    }
   ],
   "source": [
    "#plotting the graph\n",
    "plt.figure(figsize=(10,10))\n",
    "sb.countplot(x=\"year\",data=metro_data)\n",
    "plt.title(\"Number of Metro Stations Opened Each Year in Delhi\")\n",
    "plt.ylabel(\"Number of Stations Opened\")"
   ]
  },
  {
   "cell_type": "code",
   "execution_count": null,
   "id": "68b6510f",
   "metadata": {},
   "outputs": [],
   "source": []
  },
  {
   "cell_type": "code",
   "execution_count": 37,
   "id": "6ea41291",
   "metadata": {},
   "outputs": [
    {
     "name": "stdout",
     "output_type": "stream",
     "text": [
      "<class 'pandas.core.series.Series'>\n",
      "RangeIndex: 285 entries, 0 to 284\n",
      "Series name: Line\n",
      "Non-Null Count  Dtype \n",
      "--------------  ----- \n",
      "285 non-null    object\n",
      "dtypes: object(1)\n",
      "memory usage: 2.4+ KB\n"
     ]
    }
   ],
   "source": [
    "# line column\n",
    "# checking info\n",
    "metro_data[\"Line\"].info()"
   ]
  },
  {
   "cell_type": "code",
   "execution_count": 38,
   "id": "0774ab30",
   "metadata": {},
   "outputs": [
    {
     "data": {
      "text/plain": [
       "array(['Red line', 'Pink line', 'Rapid Metro', 'Magenta line',\n",
       "       'Blue line', 'Aqua line', 'Voilet line', 'Yellow line',\n",
       "       'Green line', 'Gray line', 'Orange line', 'Green line branch',\n",
       "       'Blue line branch'], dtype=object)"
      ]
     },
     "execution_count": 38,
     "metadata": {},
     "output_type": "execute_result"
    }
   ],
   "source": [
    "# checking for unique lines\n",
    "metro_data[\"Line\"].unique()"
   ]
  },
  {
   "cell_type": "code",
   "execution_count": 39,
   "id": "fc0046a2",
   "metadata": {},
   "outputs": [
    {
     "data": {
      "text/plain": [
       "13"
      ]
     },
     "execution_count": 39,
     "metadata": {},
     "output_type": "execute_result"
    }
   ],
   "source": [
    "# counting it\n",
    "metro_data[\"Line\"].nunique()"
   ]
  },
  {
   "cell_type": "markdown",
   "id": "bfaf73f3",
   "metadata": {},
   "source": [
    "* There are total 13 metro lines"
   ]
  },
  {
   "cell_type": "code",
   "execution_count": 40,
   "id": "7c1ac304",
   "metadata": {},
   "outputs": [],
   "source": [
    "# value_counting\n",
    "stations_per_line=metro_data[\"Line\"].value_counts()"
   ]
  },
  {
   "cell_type": "code",
   "execution_count": 41,
   "id": "21e13a2d",
   "metadata": {},
   "outputs": [
    {
     "data": {
      "text/plain": [
       "Line\n",
       "Blue line            49\n",
       "Pink line            38\n",
       "Yellow line          37\n",
       "Voilet line          34\n",
       "Red line             29\n",
       "Magenta line         25\n",
       "Aqua line            21\n",
       "Green line           21\n",
       "Rapid Metro          11\n",
       "Blue line branch      8\n",
       "Orange line           6\n",
       "Gray line             3\n",
       "Green line branch     3\n",
       "Name: count, dtype: int64"
      ]
     },
     "execution_count": 41,
     "metadata": {},
     "output_type": "execute_result"
    }
   ],
   "source": [
    "stations_per_line"
   ]
  },
  {
   "cell_type": "markdown",
   "id": "fd389aec",
   "metadata": {},
   "source": [
    "* There are maximum as 49 stations with blue line.\n",
    "* There are minimum as 3 stations with Gray line and Green line branch."
   ]
  },
  {
   "cell_type": "code",
   "execution_count": 42,
   "id": "e221ffe4",
   "metadata": {},
   "outputs": [],
   "source": [
    "# calculating the total distance of each metro line (max distance from start)\n",
    "total_distance_per_line= metro_data.groupby('Line')['Distance from Start (km)'].max()"
   ]
  },
  {
   "cell_type": "code",
   "execution_count": 43,
   "id": "41ebb3e6",
   "metadata": {},
   "outputs": [
    {
     "data": {
      "text/plain": [
       "Line\n",
       "Blue line            52.7\n",
       "Pink line            52.6\n",
       "Yellow line          45.7\n",
       "Voilet line          43.5\n",
       "Magenta line         33.1\n",
       "Red line             32.7\n",
       "Aqua line            27.1\n",
       "Green line           24.8\n",
       "Orange line          20.8\n",
       "Rapid Metro          10.0\n",
       "Blue line branch      8.1\n",
       "Gray line             3.9\n",
       "Green line branch     2.1\n",
       "Name: Distance from Start (km), dtype: float64"
      ]
     },
     "execution_count": 43,
     "metadata": {},
     "output_type": "execute_result"
    }
   ],
   "source": [
    "total_distance_per_line.sort_values(ascending=False)"
   ]
  },
  {
   "cell_type": "code",
   "execution_count": 44,
   "id": "7afc09f9",
   "metadata": {},
   "outputs": [],
   "source": [
    "# calculating average distance of each metro line.\n",
    "avg_distance_per_line=total_distance_per_line/(stations_per_line-1)"
   ]
  },
  {
   "cell_type": "code",
   "execution_count": 45,
   "id": "44007997",
   "metadata": {},
   "outputs": [
    {
     "data": {
      "text/plain": [
       "Line\n",
       "Aqua line            1.355000\n",
       "Blue line            1.097917\n",
       "Blue line branch     1.157143\n",
       "Gray line            1.950000\n",
       "Green line           1.240000\n",
       "Green line branch    1.050000\n",
       "Magenta line         1.379167\n",
       "Orange line          4.160000\n",
       "Pink line            1.421622\n",
       "Rapid Metro          1.000000\n",
       "Red line             1.167857\n",
       "Voilet line          1.318182\n",
       "Yellow line          1.269444\n",
       "dtype: float64"
      ]
     },
     "execution_count": 45,
     "metadata": {},
     "output_type": "execute_result"
    }
   ],
   "source": [
    "avg_distance_per_line"
   ]
  },
  {
   "cell_type": "code",
   "execution_count": null,
   "id": "1011830f",
   "metadata": {},
   "outputs": [],
   "source": []
  },
  {
   "cell_type": "code",
   "execution_count": 46,
   "id": "33e5d3bb",
   "metadata": {},
   "outputs": [],
   "source": [
    "# making a dataframe \n",
    "line_analysis=pd.DataFrame({'line':stations_per_line.index,'Number of Stations':stations_per_line.values\n",
    "                           ,\"Average Distance Between Stations (km)\":avg_distance_per_line}) "
   ]
  },
  {
   "cell_type": "code",
   "execution_count": 47,
   "id": "86852a35",
   "metadata": {},
   "outputs": [],
   "source": [
    "line_analysis.reset_index(drop=True,inplace=True)"
   ]
  },
  {
   "cell_type": "code",
   "execution_count": 48,
   "id": "7f00612e",
   "metadata": {},
   "outputs": [
    {
     "data": {
      "text/html": [
       "<div>\n",
       "<style scoped>\n",
       "    .dataframe tbody tr th:only-of-type {\n",
       "        vertical-align: middle;\n",
       "    }\n",
       "\n",
       "    .dataframe tbody tr th {\n",
       "        vertical-align: top;\n",
       "    }\n",
       "\n",
       "    .dataframe thead th {\n",
       "        text-align: right;\n",
       "    }\n",
       "</style>\n",
       "<table border=\"1\" class=\"dataframe\">\n",
       "  <thead>\n",
       "    <tr style=\"text-align: right;\">\n",
       "      <th></th>\n",
       "      <th>line</th>\n",
       "      <th>Number of Stations</th>\n",
       "      <th>Average Distance Between Stations (km)</th>\n",
       "    </tr>\n",
       "  </thead>\n",
       "  <tbody>\n",
       "    <tr>\n",
       "      <th>0</th>\n",
       "      <td>Blue line</td>\n",
       "      <td>49</td>\n",
       "      <td>1.355000</td>\n",
       "    </tr>\n",
       "    <tr>\n",
       "      <th>1</th>\n",
       "      <td>Pink line</td>\n",
       "      <td>38</td>\n",
       "      <td>1.097917</td>\n",
       "    </tr>\n",
       "    <tr>\n",
       "      <th>2</th>\n",
       "      <td>Yellow line</td>\n",
       "      <td>37</td>\n",
       "      <td>1.157143</td>\n",
       "    </tr>\n",
       "    <tr>\n",
       "      <th>3</th>\n",
       "      <td>Voilet line</td>\n",
       "      <td>34</td>\n",
       "      <td>1.950000</td>\n",
       "    </tr>\n",
       "    <tr>\n",
       "      <th>4</th>\n",
       "      <td>Red line</td>\n",
       "      <td>29</td>\n",
       "      <td>1.240000</td>\n",
       "    </tr>\n",
       "    <tr>\n",
       "      <th>5</th>\n",
       "      <td>Magenta line</td>\n",
       "      <td>25</td>\n",
       "      <td>1.050000</td>\n",
       "    </tr>\n",
       "    <tr>\n",
       "      <th>6</th>\n",
       "      <td>Aqua line</td>\n",
       "      <td>21</td>\n",
       "      <td>1.379167</td>\n",
       "    </tr>\n",
       "    <tr>\n",
       "      <th>7</th>\n",
       "      <td>Green line</td>\n",
       "      <td>21</td>\n",
       "      <td>4.160000</td>\n",
       "    </tr>\n",
       "    <tr>\n",
       "      <th>8</th>\n",
       "      <td>Rapid Metro</td>\n",
       "      <td>11</td>\n",
       "      <td>1.421622</td>\n",
       "    </tr>\n",
       "    <tr>\n",
       "      <th>9</th>\n",
       "      <td>Blue line branch</td>\n",
       "      <td>8</td>\n",
       "      <td>1.000000</td>\n",
       "    </tr>\n",
       "    <tr>\n",
       "      <th>10</th>\n",
       "      <td>Orange line</td>\n",
       "      <td>6</td>\n",
       "      <td>1.167857</td>\n",
       "    </tr>\n",
       "    <tr>\n",
       "      <th>11</th>\n",
       "      <td>Gray line</td>\n",
       "      <td>3</td>\n",
       "      <td>1.318182</td>\n",
       "    </tr>\n",
       "    <tr>\n",
       "      <th>12</th>\n",
       "      <td>Green line branch</td>\n",
       "      <td>3</td>\n",
       "      <td>1.269444</td>\n",
       "    </tr>\n",
       "  </tbody>\n",
       "</table>\n",
       "</div>"
      ],
      "text/plain": [
       "                 line  Number of Stations  \\\n",
       "0           Blue line                  49   \n",
       "1           Pink line                  38   \n",
       "2         Yellow line                  37   \n",
       "3         Voilet line                  34   \n",
       "4            Red line                  29   \n",
       "5        Magenta line                  25   \n",
       "6           Aqua line                  21   \n",
       "7          Green line                  21   \n",
       "8         Rapid Metro                  11   \n",
       "9    Blue line branch                   8   \n",
       "10        Orange line                   6   \n",
       "11          Gray line                   3   \n",
       "12  Green line branch                   3   \n",
       "\n",
       "    Average Distance Between Stations (km)  \n",
       "0                                 1.355000  \n",
       "1                                 1.097917  \n",
       "2                                 1.157143  \n",
       "3                                 1.950000  \n",
       "4                                 1.240000  \n",
       "5                                 1.050000  \n",
       "6                                 1.379167  \n",
       "7                                 4.160000  \n",
       "8                                 1.421622  \n",
       "9                                 1.000000  \n",
       "10                                1.167857  \n",
       "11                                1.318182  \n",
       "12                                1.269444  "
      ]
     },
     "execution_count": 48,
     "metadata": {},
     "output_type": "execute_result"
    }
   ],
   "source": [
    "line_analysis"
   ]
  },
  {
   "cell_type": "code",
   "execution_count": 49,
   "id": "2662fbb9",
   "metadata": {},
   "outputs": [
    {
     "data": {
      "text/plain": [
       "Text(0, 0.5, 'Metro Line')"
      ]
     },
     "execution_count": 49,
     "metadata": {},
     "output_type": "execute_result"
    },
    {
     "data": {
      "image/png": "[encoded data removed]",
      "text/plain": [
       "<Figure size 640x480 with 1 Axes>"
      ]
     },
     "metadata": {},
     "output_type": "display_data"
    }
   ],
   "source": [
    "# plotting the graph for number of stations\n",
    "sb.barplot(y='line',x=\"Number of Stations\",data=line_analysis)\n",
    "plt.title(\"Number od Stations per Metro line\")\n",
    "plt.ylabel(\"Metro Line\")"
   ]
  },
  {
   "cell_type": "code",
   "execution_count": null,
   "id": "cf72cf9d",
   "metadata": {},
   "outputs": [],
   "source": []
  },
  {
   "cell_type": "code",
   "execution_count": 50,
   "id": "b0b5d6c7",
   "metadata": {},
   "outputs": [
    {
     "data": {
      "text/plain": [
       "Text(0, 0.5, 'Metro line')"
      ]
     },
     "execution_count": 50,
     "metadata": {},
     "output_type": "execute_result"
    },
    {
     "data": {
      "image/png": "[encoded data removed]",
      "text/plain": [
       "<Figure size 640x480 with 1 Axes>"
      ]
     },
     "metadata": {},
     "output_type": "display_data"
    }
   ],
   "source": [
    "# plotting the graph for average distance between stations (km)\n",
    "sb.barplot(y='line',x='Average Distance Between Stations (km)',data=line_analysis)\n",
    "plt.title(\"Average Distance Between Stations Per Metro Line\")\n",
    "plt.ylabel(\"Metro line\")"
   ]
  },
  {
   "cell_type": "code",
   "execution_count": null,
   "id": "8ca4ebde",
   "metadata": {},
   "outputs": [],
   "source": []
  }
 ],
 "metadata": {
  "kernelspec": {
   "display_name": "Python 3 (ipykernel)",
   "language": "python",
   "name": "python3"
  },
  "language_info": {
   "codemirror_mode": {
    "name": "ipython",
    "version": 3
   },
   "file_extension": ".py",
   "mimetype": "text/x-python",
   "name": "python",
   "nbconvert_exporter": "python",
   "pygments_lexer": "ipython3",
   "version": "3.11.5"
  }
 },
 "nbformat": 4,
 "nbformat_minor": 5
}
